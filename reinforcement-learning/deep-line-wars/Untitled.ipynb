{
 "cells": [
  {
   "cell_type": "code",
   "execution_count": 1,
   "metadata": {},
   "outputs": [],
   "source": [
    "import tensorflow as tf\n",
    "import numpy as np"
   ]
  },
  {
   "cell_type": "code",
   "execution_count": 2,
   "metadata": {},
   "outputs": [],
   "source": [
    "import cv2\n",
    "\n",
    "class Preprocessor:\n",
    "    def __init__(self):\n",
    "        pass\n",
    "    \n",
    "    def begin(self, image):\n",
    "        if self.image is not None:\n",
    "            raise Error(\"image is already set. Explicitly call done() for each preprocessor\")\n",
    "        self.image = image\n",
    "        return self\n",
    "    \n",
    "    def resize(self, w, h):\n",
    "        self.image = cv2.resize(self.image, (w, h)) \n",
    "        return self\n",
    "    \n",
    "    def grayscale(self):\n",
    "        self.image = cv2.cvtColor(self.image, cv2.COLOR_RGB2GRAY) \n",
    "        return self\n",
    "    \n",
    "    def done():\n",
    "        img = self.image\n",
    "        self.image = None\n",
    "        return self.image"
   ]
  },
  {
   "cell_type": "code",
   "execution_count": 36,
   "metadata": {},
   "outputs": [],
   "source": [
    "class NN:\n",
    "    \n",
    "    class Initializers:\n",
    "        @staticmethod\n",
    "        def ortho_init(scale=1.0):\n",
    "            def _ortho_init(shape, dtype, partition_info=None):\n",
    "                #lasagne ortho init for tf\n",
    "                shape = tuple(shape)\n",
    "                if len(shape) == 2:\n",
    "                    flat_shape = shape\n",
    "                elif len(shape) == 4: # assumes NHWC\n",
    "                    flat_shape = (np.prod(shape[:-1]), shape[-1])\n",
    "                else:\n",
    "                    raise NotImplementedError\n",
    "                a = np.random.normal(0.0, 1.0, flat_shape)\n",
    "                u, _, v = np.linalg.svd(a, full_matrices=False)\n",
    "                q = u if u.shape == flat_shape else v # pick the one with the correct shape\n",
    "                q = q.reshape(shape)\n",
    "                return (scale * q[:shape[0], :shape[1]]).astype(np.float32)\n",
    "            return _ortho_init\n",
    "    \n",
    "    class Layers:\n",
    "        @staticmethod\n",
    "        def convolution(x, scope, filters, kernel, stride, pad='VALID', init_scale=1.0, one_dim_bias=False):\n",
    "            channel_ax = 3\n",
    "            strides = [1] + stride + [1]\n",
    "            bshape = [1, 1, 1, filters]\n",
    "\n",
    "            bias_var_shape = [filters] if one_dim_bias else [1, filters, 1, 1]\n",
    "            nin = x.get_shape()[channel_ax].value\n",
    "            wshape = kernel + [nin, filters]\n",
    "            \n",
    "            with tf.variable_scope(scope):\n",
    "                w = tf.get_variable(\"w\", wshape, initializer=NN.Initializers.ortho_init(init_scale))\n",
    "                b = tf.get_variable(\"b\", bias_var_shape, initializer=tf.constant_initializer(0.0))\n",
    "                if not one_dim_bias:\n",
    "                    b = tf.reshape(b, bshape)\n",
    "                return b + tf.nn.conv2d(x, w, strides=strides, padding=pad, data_format='NHWC')\n",
    "\n",
    "        @staticmethod\n",
    "        def fully_connected(x, scope, nh, init_scale=1.0, init_bias=0.0):\n",
    "            \"\"\"\n",
    "            x = input\n",
    "            scope = name\n",
    "            nh = number of hidden neurons\n",
    "            \"\"\"\n",
    "            with tf.variable_scope(scope):\n",
    "                nin = x.get_shape()[1].value\n",
    "                w = tf.get_variable(\"w\", [nin, nh], initializer=NN.Initializers.ortho_init(init_scale))\n",
    "                b = tf.get_variable(\"b\", [nh], initializer=tf.constant_initializer(init_bias))\n",
    "                return tf.matmul(x, w)+b\n",
    "            \n",
    "        @staticmethod\n",
    "        def flatten(x):\n",
    "            nh = np.prod([v.value for v in x.get_shape()[1:]])\n",
    "            x = tf.reshape(x, [-1, nh])\n",
    "            return x\n"
   ]
  },
  {
   "cell_type": "code",
   "execution_count": 37,
   "metadata": {},
   "outputs": [
    {
     "name": "stdout",
     "output_type": "stream",
     "text": [
      "(80, 80, 3)\n",
      "(32, 80, 80, 3)\n"
     ]
    },
    {
     "data": {
      "text/plain": [
       "<__main__.Actor at 0x7fad81ef92b0>"
      ]
     },
     "execution_count": 37,
     "metadata": {},
     "output_type": "execute_result"
    }
   ],
   "source": [
    "class Actor:\n",
    "\n",
    "    def __init__(self, sess, ob_space, ac_space, nbatch):\n",
    "        self.model = self._build(sess, ob_space, ac_space, nbatch)\n",
    "\n",
    "    def _build(self, sess, ob_space, ac_space, nbatch):\n",
    "        print(ob_space.shape)\n",
    "        ob_shape = (nbatch, ) + ob_space.shape\n",
    "        \n",
    "        X = tf.placeholder(tf.float32, ob_shape) # Observation\n",
    "        print(X.get_shape())\n",
    "        \n",
    "        with tf.variable_scope('model', reuse=tf.AUTO_REUSE):\n",
    "            # Convolutional Layer #1\n",
    "            hidden_1 = tf.nn.relu(NN.Layers.convolution(X, \"conv_1\", 32, [8, 8], [4, 4], init_scale=np.sqrt(2)))\n",
    "            \n",
    "            # Convolutional Layer #2\n",
    "            hidden_2 = tf.nn.relu(NN.Layers.convolution(hidden_1, \"conv_2\", 64, [4, 4], [2, 2], init_scale=np.sqrt(2)))\n",
    "            \n",
    "            # Convolutional Layer #3\n",
    "            hidden_3 = tf.nn.relu(NN.Layers.convolution(hidden_2, \"conv_3\", 64, [3, 3], [1, 1], init_scale=np.sqrt(2)))\n",
    "            \n",
    "            # Flatten to FC\n",
    "            flatten = NN.Layers.flatten(hidden_3)\n",
    "            \n",
    "            # Classification Layer # 1\n",
    "            fc_1 = tf.nn.relu(NN.Layers.fully_connected(flatten, 'fc_1', 512, init_scale=np.sqrt(2)))\n",
    "\n",
    "            \n",
    "sess = tf.get_default_session()\n",
    "Actor(sess, np.zeros(shape=(80, 80, 3)), np.zeros(shape=(4, )), 32)\n",
    "\n",
    "            \n",
    "            \n",
    "            \n",
    "    \n",
    "            "
   ]
  },
  {
   "cell_type": "code",
   "execution_count": 35,
   "metadata": {},
   "outputs": [],
   "source": [
    "class Critic:\n",
    "\n",
    "    def __init__(self):\n",
    "        self.model = self._build()\n",
    "\n",
    "    def _build(self):\n",
    "        pass"
   ]
  },
  {
   "cell_type": "code",
   "execution_count": null,
   "metadata": {},
   "outputs": [],
   "source": [
    "class Agent:\n",
    "    pass"
   ]
  }
 ],
 "metadata": {
  "kernelspec": {
   "display_name": "Python 3",
   "language": "python",
   "name": "python3"
  },
  "language_info": {
   "codemirror_mode": {
    "name": "ipython",
    "version": 3
   },
   "file_extension": ".py",
   "mimetype": "text/x-python",
   "name": "python",
   "nbconvert_exporter": "python",
   "pygments_lexer": "ipython3",
   "version": "3.6.5"
  }
 },
 "nbformat": 4,
 "nbformat_minor": 2
}
